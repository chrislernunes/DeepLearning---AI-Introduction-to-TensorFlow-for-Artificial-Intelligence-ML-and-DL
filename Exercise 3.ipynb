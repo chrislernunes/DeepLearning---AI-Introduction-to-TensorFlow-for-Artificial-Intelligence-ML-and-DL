{
 "cells": [
  {
   "cell_type": "code",
   "execution_count": 1,
   "id": "0140e030",
   "metadata": {},
   "outputs": [],
   "source": [
    "import tensorflow as tf\n",
    "from os import path, getcwd, chdir\n",
    "\n",
    "# DO NOT CHANGE THE LINE BELOW. If you are developing in a local\n",
    "# environment, then grab mnist.npz from the Coursera Jupyter Notebook\n",
    "# and place it inside a local folder and edit the path to that location"
   ]
  },
  {
   "cell_type": "code",
   "execution_count": 2,
   "id": "ad2aefc9",
   "metadata": {},
   "outputs": [],
   "source": [
    "# GRADED FUNCTION: train_mnist_conv\n",
    "def train_mnist_conv():\n",
    "    # Please write your code only where you are indicated.\n",
    "    # please do not remove model fitting inline comments.\n",
    "\n",
    "    # YOUR CODE STARTS HERE\n",
    "    class MyCallback(tf.keras.callbacks.Callback):\n",
    "        def on_epoch_end(self, epoch, logs):\n",
    "            if logs.get('accuracy') >= 0.998 :\n",
    "                print(\"\\nReached 99.8% accuracy so cancelling training!\")\n",
    "                model.stop_training = True\n",
    "    \n",
    "    callbacks = MyCallback()\n",
    "    # YOUR CODE ENDS HERE\n",
    "\n",
    "    mnist = tf.keras.datasets.mnist\n",
    "    (training_images, training_labels), (test_images, test_labels) = mnist.load_data()\n",
    "    # YOUR CODE STARTS HERE\n",
    "    training_images = training_images.reshape(60000, 28, 28, 1) / 255.0\n",
    "    test_images = test_images.reshape(10000, 28, 28, 1) / 255.0\n",
    "    # YOUR CODE ENDS HERE\n",
    "\n",
    "    model = tf.keras.models.Sequential([\n",
    "            # YOUR CODE STARTS HERE\n",
    "            tf.keras.layers.Conv2D(64, (3,3), activation='relu', input_shape=(28,28,1)),\n",
    "            tf.keras.layers.MaxPooling2D((2,2)),\n",
    "            tf.keras.layers.Flatten(),\n",
    "            tf.keras.layers.Dense(128, activation='relu'),\n",
    "            tf.keras.layers.Dense(64, activation='relu'),\n",
    "            tf.keras.layers.Dense(10, activation ='softmax')\n",
    "            # YOUR CODE ENDS HERE\n",
    "    ])\n",
    "\n",
    "    model.compile(optimizer='adam', loss='sparse_categorical_crossentropy', metrics=['accuracy'])\n",
    "    # model fitting\n",
    "    history = model.fit(\n",
    "        # YOUR CODE STARTS HERE\n",
    "        training_images, training_labels, epochs=15, callbacks=[callbacks]\n",
    "        # YOUR CODE ENDS HERE\n",
    "    )\n",
    "    # model fitting\n",
    "    return history.epoch, history.history['accuracy'][-1]"
   ]
  },
  {
   "cell_type": "code",
   "execution_count": 3,
   "id": "621aa0aa",
   "metadata": {},
   "outputs": [
    {
     "name": "stderr",
     "output_type": "stream",
     "text": [
      "2022-07-28 12:04:58.238142: I tensorflow/core/platform/cpu_feature_guard.cc:145] This TensorFlow binary is optimized with Intel(R) MKL-DNN to use the following CPU instructions in performance critical operations:  SSE4.1 SSE4.2\n",
      "To enable them in non-MKL-DNN operations, rebuild TensorFlow with the appropriate compiler flags.\n",
      "2022-07-28 12:04:58.238815: I tensorflow/core/common_runtime/process_util.cc:115] Creating new thread pool with default inter op setting: 8. Tune using inter_op_parallelism_threads for best performance.\n"
     ]
    },
    {
     "name": "stdout",
     "output_type": "stream",
     "text": [
      "Train on 60000 samples\n",
      "Epoch 1/15\n",
      "60000/60000 [==============================] - 182s 3ms/sample - loss: 0.1463 - accuracy: 0.9557\n",
      "Epoch 2/15\n",
      "60000/60000 [==============================] - 123s 2ms/sample - loss: 0.0513 - accuracy: 0.9841\n",
      "Epoch 3/15\n",
      "60000/60000 [==============================] - 122s 2ms/sample - loss: 0.0325 - accuracy: 0.9900\n",
      "Epoch 4/15\n",
      "60000/60000 [==============================] - 122s 2ms/sample - loss: 0.0223 - accuracy: 0.9925\n",
      "Epoch 5/15\n",
      "60000/60000 [==============================] - 121s 2ms/sample - loss: 0.0157 - accuracy: 0.9949\n",
      "Epoch 6/15\n",
      "60000/60000 [==============================] - 121s 2ms/sample - loss: 0.0121 - accuracy: 0.9960\n",
      "Epoch 7/15\n",
      "60000/60000 [==============================] - 121s 2ms/sample - loss: 0.0093 - accuracy: 0.9969\n",
      "Epoch 8/15\n",
      "60000/60000 [==============================] - 121s 2ms/sample - loss: 0.0076 - accuracy: 0.9975\n",
      "Epoch 9/15\n",
      "60000/60000 [==============================] - 121s 2ms/sample - loss: 0.0074 - accuracy: 0.9973\n",
      "Epoch 10/15\n",
      "60000/60000 [==============================] - 121s 2ms/sample - loss: 0.0058 - accuracy: 0.9979\n",
      "Epoch 11/15\n",
      "60000/60000 [==============================] - 121s 2ms/sample - loss: 0.0064 - accuracy: 0.9979\n",
      "Epoch 12/15\n",
      "59968/60000 [============================>.] - ETA: 0s - loss: 0.0053 - accuracy: 0.9985\n",
      "Reached 99.8% accuracy so cancelling training!\n",
      "60000/60000 [==============================] - 120s 2ms/sample - loss: 0.0053 - accuracy: 0.9985\n"
     ]
    }
   ],
   "source": [
    "_, _ = train_mnist_conv()"
   ]
  },
  {
   "cell_type": "code",
   "execution_count": null,
   "id": "f11636aa",
   "metadata": {},
   "outputs": [],
   "source": []
  }
 ],
 "metadata": {
  "kernelspec": {
   "display_name": "Python 3 (ipykernel)",
   "language": "python",
   "name": "python3"
  },
  "language_info": {
   "codemirror_mode": {
    "name": "ipython",
    "version": 3
   },
   "file_extension": ".py",
   "mimetype": "text/x-python",
   "name": "python",
   "nbconvert_exporter": "python",
   "pygments_lexer": "ipython3",
   "version": "3.7.13"
  }
 },
 "nbformat": 4,
 "nbformat_minor": 5
}
