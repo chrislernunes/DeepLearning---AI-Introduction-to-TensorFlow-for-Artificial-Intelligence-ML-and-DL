{
 "cells": [
  {
   "cell_type": "code",
   "execution_count": 1,
   "id": "1ca553fb",
   "metadata": {},
   "outputs": [],
   "source": [
    "#@title Licensed under the Apache License, Version 2.0 (the \"License\");\n",
    "# you may not use this file except in compliance with the License.\n",
    "# You may obtain a copy of the License at\n",
    "#\n",
    "# https://www.apache.org/licenses/LICENSE-2.0\n",
    "#\n",
    "# Unless required by applicable law or agreed to in writing, software\n",
    "# distributed under the License is distributed on an \"AS IS\" BASIS,\n",
    "# WITHOUT WARRANTIES OR CONDITIONS OF ANY KIND, either express or implied.\n",
    "# See the License for the specific language governing permissions and\n",
    "# limitations under the License."
   ]
  },
  {
   "cell_type": "code",
   "execution_count": 3,
   "id": "069e987c",
   "metadata": {},
   "outputs": [
    {
     "name": "stderr",
     "output_type": "stream",
     "text": [
      "2022-07-28 12:01:51.342705: I tensorflow/core/platform/cpu_feature_guard.cc:145] This TensorFlow binary is optimized with Intel(R) MKL-DNN to use the following CPU instructions in performance critical operations:  SSE4.1 SSE4.2\n",
      "To enable them in non-MKL-DNN operations, rebuild TensorFlow with the appropriate compiler flags.\n",
      "2022-07-28 12:01:51.348831: I tensorflow/core/common_runtime/process_util.cc:115] Creating new thread pool with default inter op setting: 8. Tune using inter_op_parallelism_threads for best performance.\n"
     ]
    },
    {
     "name": "stdout",
     "output_type": "stream",
     "text": [
      "Train on 60000 samples\n",
      "Epoch 1/10\n",
      "60000/60000 [==============================] - 30s 500us/sample - loss: 0.1750 - accuracy: 0.9466\n",
      "Epoch 2/10\n",
      "60000/60000 [==============================] - 30s 496us/sample - loss: 0.0757 - accuracy: 0.9759\n",
      "Epoch 3/10\n",
      "60000/60000 [==============================] - 30s 502us/sample - loss: 0.0473 - accuracy: 0.9848\n",
      "Epoch 4/10\n",
      "60000/60000 [==============================] - 31s 524us/sample - loss: 0.0351 - accuracy: 0.9886\n",
      "Epoch 5/10\n",
      "60000/60000 [==============================] - 29s 487us/sample - loss: 0.0273 - accuracy: 0.9909\n",
      "Epoch 6/10\n",
      "60000/60000 [==============================] - 29s 491us/sample - loss: 0.0226 - accuracy: 0.9928\n",
      "Epoch 7/10\n",
      "60000/60000 [==============================] - 35s 583us/sample - loss: 0.0188 - accuracy: 0.9937\n",
      "Epoch 8/10\n",
      "60000/60000 [==============================] - 36s 606us/sample - loss: 0.0169 - accuracy: 0.9947\n",
      "Epoch 9/10\n",
      "60000/60000 [==============================] - 36s 606us/sample - loss: 0.0161 - accuracy: 0.9948\n",
      "Epoch 10/10\n",
      "60000/60000 [==============================] - 36s 605us/sample - loss: 0.0151 - accuracy: 0.9953\n"
     ]
    },
    {
     "data": {
      "text/plain": [
       "<tensorflow.python.keras.callbacks.History at 0x7fb1ef0f3e90>"
      ]
     },
     "execution_count": 3,
     "metadata": {},
     "output_type": "execute_result"
    }
   ],
   "source": [
    "# YOUR CODE SHOULD START HERE\n",
    "from tensorflow import keras\n",
    "# YOUR CODE SHOULD END HERE\n",
    "import tensorflow as tf\n",
    "\n",
    "mnist = tf.keras.datasets.mnist\n",
    "\n",
    "(x_train, y_train),(x_test, y_test) = mnist.load_data()\n",
    "# YOUR CODE SHOULD START HERE\n",
    "\n",
    "x_train = x_train/255.0\n",
    "x_test = x_test/255.0\n",
    "\n",
    "class MyCallback(tf.keras.callbacks.Callback):\n",
    "  def on_epoch_end(self, epoch, logs={}):\n",
    "    if logs.get('loss') < 0.015 :\n",
    "      print(\"\\nReached 99% accuracy so cancelling training!\")\n",
    "      self.model.stop_training = True\n",
    "\n",
    "callbacks = MyCallback()\n",
    "\n",
    "# YOUR CODE SHOULD END HERE\n",
    "model = tf.keras.models.Sequential([\n",
    "# YOUR CODE SHOULD START HERE\n",
    "    keras.layers.Flatten(),\n",
    "    keras.layers.Dense(2048, activation = tf.nn.relu),\n",
    "    keras.layers.Dense(10, activation = tf.nn.softmax)\n",
    "# YOUR CODE SHOULD END HERE\n",
    "])\n",
    "\n",
    "model.compile(optimizer='adam',\n",
    "              loss='sparse_categorical_crossentropy',\n",
    "              metrics=['accuracy'])\n",
    "\n",
    "# YOUR CODE SHOULD START HERE\n",
    "model.fit(x_train, y_train, epochs=10, callbacks=[callbacks])\n",
    "# YOUR CODE SHOULD END HERE"
   ]
  },
  {
   "cell_type": "code",
   "execution_count": null,
   "id": "286669c9",
   "metadata": {},
   "outputs": [],
   "source": []
  }
 ],
 "metadata": {
  "kernelspec": {
   "display_name": "Python 3 (ipykernel)",
   "language": "python",
   "name": "python3"
  },
  "language_info": {
   "codemirror_mode": {
    "name": "ipython",
    "version": 3
   },
   "file_extension": ".py",
   "mimetype": "text/x-python",
   "name": "python",
   "nbconvert_exporter": "python",
   "pygments_lexer": "ipython3",
   "version": "3.7.13"
  }
 },
 "nbformat": 4,
 "nbformat_minor": 5
}
